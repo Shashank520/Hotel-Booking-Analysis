{
  "nbformat": 4,
  "nbformat_minor": 0,
  "metadata": {
    "colab": {
      "private_outputs": true,
      "provenance": [],
      "collapsed_sections": [
        "vncDsAP0Gaoa",
        "FJNUwmbgGyua",
        "w6K7xa23Elo4",
        "yQaldy8SH6Dl",
        "PH-0ReGfmX4f",
        "mDgbUHAGgjLW",
        "O_i_v8NEhb9l",
        "HhfV-JJviCcP",
        "Y3lxredqlCYt",
        "3RnN4peoiCZX",
        "x71ZqKXriCWQ",
        "7hBIi_osiCS2",
        "JlHwYmJAmNHm",
        "35m5QtbWiB9F",
        "PoPl-ycgm1ru",
        "H0kj-8xxnORC",
        "nA9Y7ga8ng1Z",
        "PBTbrJXOngz2",
        "u3PMJOP6ngxN",
        "dauF4eBmngu3",
        "bKJF3rekwFvQ",
        "MSa1f5Uengrz",
        "GF8Ens_Soomf",
        "0wOQAZs5pc--",
        "K5QZ13OEpz2H",
        "lQ7QKXXCp7Bj",
        "448CDAPjqfQr",
        "KSlN3yHqYklG",
        "t6dVpIINYklI",
        "ijmpgYnKYklI",
        "-JiQyfWJYklI",
        "EM7whBJCYoAo",
        "fge-S5ZAYoAp",
        "85gYPyotYoAp",
        "RoGjAbkUYoAp",
        "4Of9eVA-YrdM",
        "iky9q4vBYrdO",
        "F6T5p64dYrdO",
        "y-Ehk30pYrdP",
        "bamQiAODYuh1",
        "QHF8YVU7Yuh3",
        "GwzvFGzlYuh3",
        "qYpmQ266Yuh3",
        "OH-pJp9IphqM",
        "bbFf2-_FphqN",
        "_ouA3fa0phqN",
        "Seke61FWphqN",
        "PIIx-8_IphqN",
        "t27r6nlMphqO",
        "r2jJGEOYphqO",
        "b0JNsNcRphqO",
        "BZR9WyysphqO",
        "jj7wYXLtphqO",
        "eZrbJ2SmphqO",
        "rFu4xreNphqO",
        "YJ55k-q6phqO",
        "gCFgpxoyphqP",
        "OVtJsKN_phqQ",
        "lssrdh5qphqQ",
        "U2RJ9gkRphqQ",
        "1M8mcRywphqQ",
        "tgIPom80phqQ",
        "JMzcOPDDphqR",
        "x-EpHcCOp1ci",
        "X_VqEhTip1ck",
        "8zGJKyg5p1ck",
        "PVzmfK_Ep1ck",
        "n3dbpmDWp1ck",
        "ylSl6qgtp1ck",
        "ZWILFDl5p1ck",
        "M7G43BXep1ck",
        "Ag9LCva-p1cl",
        "E6MkPsBcp1cl",
        "2cELzS2fp1cl",
        "3MPXvC8up1cl",
        "NC_X3p0fY2L0",
        "UV0SzAkaZNRQ",
        "YPEH6qLeZNRQ",
        "q29F0dvdveiT",
        "EXh0U9oCveiU",
        "22aHeOlLveiV",
        "JcMwzZxoAimU",
        "8G2x9gOozGDZ",
        "gCX9965dhzqZ",
        "gIfDvo9L0UH2"
      ],
      "include_colab_link": true
    },
    "kernelspec": {
      "name": "python3",
      "display_name": "Python 3"
    },
    "language_info": {
      "name": "python"
    }
  },
  "cells": [
    {
      "cell_type": "markdown",
      "metadata": {
        "id": "view-in-github",
        "colab_type": "text"
      },
      "source": [
        "<a href=\"https://colab.research.google.com/github/Shashank520/Hotel-Booking-Analysis/blob/main/HOTEL_BOOKING_ANALYSIS_EDA_Submission_Template.ipynb\" target=\"_parent\"><img src=\"https://colab.research.google.com/assets/colab-badge.svg\" alt=\"Open In Colab\"/></a>"
      ]
    },
    {
      "cell_type": "markdown",
      "source": [
        "# **Project Name**    -\n",
        "\n"
      ],
      "metadata": {
        "id": "vncDsAP0Gaoa"
      }
    },
    {
      "cell_type": "markdown",
      "source": [
        "##### **Project Type**    - EDA (EXPLORATORY DATA ANALYSIS)\n",
        "##### **Contribution**    - Individual\n",
        "**Name** - **Shashank Shekhar**"
      ],
      "metadata": {
        "id": "beRrZCGUAJYm"
      }
    },
    {
      "cell_type": "markdown",
      "source": [
        "# **Project Summary -**  ......HOTEL BOOKING ANALYSIS......\n",
        "\n"
      ],
      "metadata": {
        "id": "FJNUwmbgGyua"
      }
    },
    {
      "cell_type": "markdown",
      "source": [
        "\n",
        "I am very glad to make this project , this project help me to build up my coding skills and making my concept crystal clear.\n",
        "\n",
        "I am very thankful to ALMABETTER to give such a beautiful projects. In all of those prjects i choosed HOTEL BOOKING ANALYSIS because i go through all the columns & statements of the questions they asked in that, it attracted me very much to attempt this project.\n",
        "\n",
        "Let me summarise my project in few lines.\n",
        "\n",
        "In this project's description there are two Hotels which are CITY HOTEL & RESORT HOTEL. According to the dataset there are 119390 rows & 32 columns.\n",
        "In this project i have done 3 types of Data manipulation - Data collections,Data cleaning and the last one is EDA(Exploratory Data Analysis).\n",
        "\n",
        "In Data collection:: I have found various columns with help of coding which are head(),tail(),describe(),info(),row(),column(). Some of the methods used & some column to be updated and changed here. Some columns has deleted due to duplicate column present in the list & many more things happened, you can easily go through my project.\n",
        "\n",
        "In Data cleaning:: I have deleted some rows due to various duplicates value in the Dataset i.e there were 119390 rows after using drop_duplicates meethod as we find duplicates items equal to 87396.\n",
        "\n",
        "Before visualizing any data from the Dataset we have done data Wrangling here.\n",
        "With the help of this we checked the null value of all the columns.After getting most null value in the columns, i dropped that columns by using \"drop method\".When we find minimal number of null values, filling those null values with necessary value as per as requirement by using .fillna()\n",
        "\n",
        "Data visualization:: According to the data visualization we found the relationshionship between the variables. Here we describe all the columns with differnt pie_chart plot.we plot the histogram , plot the chart for canceled & not_canceld hotel, one chart for showing weeek wise stay at the hotel, one use for month wise bookings, i show the market_segment through the chart visiual.\n",
        "With the help of bar plot i show the revenue of hotel,i use scatter plot for showing total stay in night, after that i show the coorelation heatmap & at last i use pair plot using seaborn for showing the children in different types of columns.\n",
        "\n",
        "This is the best ways to explain between two variables.\n",
        "\n",
        "This is the summary of my project, i wish you like it most."
      ],
      "metadata": {
        "id": "F6v_1wHtG2nS"
      }
    },
    {
      "cell_type": "markdown",
      "source": [
        "# **GitHub Link -**"
      ],
      "metadata": {
        "id": "w6K7xa23Elo4"
      }
    },
    {
      "cell_type": "markdown",
      "source": [],
      "metadata": {
        "id": "h1o69JH3Eqqn"
      }
    },
    {
      "cell_type": "markdown",
      "source": [
        "# **Problem Statement**\n"
      ],
      "metadata": {
        "id": "yQaldy8SH6Dl"
      }
    },
    {
      "cell_type": "markdown",
      "source": [
        "**Write Problem Statement Here.**\n",
        "\n",
        "Have you ever wondered when it is the best time of year to book a hotel room ? The optimal lenght of stay in order to get best price for the booking.\n",
        "What if you wanted to predict whether or not ahotel was likely to recieve a disproportionatly hoigh no. of special request?\n",
        "\n",
        "This data set contain booking in formation for a City hotel and Resort hotel and paces for the parking,with all the things which customer needs.\n",
        "All personali identifying information has beeen removed from the data.\n",
        "\n",
        "Explore and analyze the data to discover impotant factors that govern in booking."
      ],
      "metadata": {
        "id": "DpeJGUA3kjGy"
      }
    },
    {
      "cell_type": "markdown",
      "source": [
        "#### **Define Your Business Objective?**"
      ],
      "metadata": {
        "id": "PH-0ReGfmX4f"
      }
    },
    {
      "cell_type": "markdown",
      "source": [
        "Bussiness Task Analyse the data on bookings of City hotel and Resort hotel to gain insights on the different factors that affect on the bookings.This is undertaken as an individual project."
      ],
      "metadata": {
        "id": "PhDvGCAqmjP1"
      }
    },
    {
      "cell_type": "markdown",
      "source": [
        "# **General Guidelines** : -  "
      ],
      "metadata": {
        "id": "mDgbUHAGgjLW"
      }
    },
    {
      "cell_type": "markdown",
      "source": [
        "1.   Well-structured, formatted, and commented code is required.\n",
        "2.   Exception Handling, Production Grade Code & Deployment Ready Code will be a plus. Those students will be awarded some additional credits.\n",
        "     \n",
        "     The additional credits will have advantages over other students during Star Student selection.\n",
        "       \n",
        "             [ Note: - Deployment Ready Code is defined as, the whole .ipynb notebook should be executable in one go\n",
        "                       without a single error logged. ]\n",
        "\n",
        "3.   Each and every logic should have proper comments.\n",
        "4. You may add as many number of charts you want. Make Sure for each and every chart the following format should be answered.\n",
        "        \n",
        "\n",
        "```\n",
        "# Chart visualization code\n",
        "```\n",
        "            \n",
        "\n",
        "*   Why did you pick the specific chart?\n",
        "*   What is/are the insight(s) found from the chart?\n",
        "* Will the gained insights help creating a positive business impact?\n",
        "Are there any insights that lead to negative growth? Justify with specific reason.\n",
        "\n",
        "5. You have to create at least 20 logical & meaningful charts having important insights.\n",
        "\n",
        "\n",
        "[ Hints : - Do the Vizualization in  a structured way while following \"UBM\" Rule.\n",
        "\n",
        "U - Univariate Analysis,\n",
        "\n",
        "B - Bivariate Analysis (Numerical - Categorical, Numerical - Numerical, Categorical - Categorical)\n",
        "\n",
        "M - Multivariate Analysis\n",
        " ]\n",
        "\n",
        "\n",
        "\n"
      ],
      "metadata": {
        "id": "ZrxVaUj-hHfC"
      }
    },
    {
      "cell_type": "markdown",
      "source": [
        "# ***Let's Begin !***"
      ],
      "metadata": {
        "id": "O_i_v8NEhb9l"
      }
    },
    {
      "cell_type": "markdown",
      "source": [
        "## ***1. Know Your Data***"
      ],
      "metadata": {
        "id": "HhfV-JJviCcP"
      }
    },
    {
      "cell_type": "markdown",
      "source": [
        "### Import Libraries"
      ],
      "metadata": {
        "id": "Y3lxredqlCYt"
      }
    },
    {
      "cell_type": "markdown",
      "source": [],
      "metadata": {
        "id": "3LIhXaujJdhd"
      }
    },
    {
      "cell_type": "code",
      "source": [
        "# Import Libraries\n",
        "\n",
        "import numpy as np\n",
        "import pandas as pd\n",
        "import matplotlib.pyplot as plt\n",
        "%matplotlib inline\n",
        "import seaborn as sns\n",
        "\n",
        "# set maximum columns to display in dataframe as 30\n",
        "\n",
        "pd.set_option(\"display.max_columns\", 30)\n",
        "plt.style.use('seaborn')\n",
        "\n",
        "# setting fontsize,fontweight,label,weight for labels,titles\n",
        "\n",
        "plt.rcParams[\"font.weight\"] = \"bold\"\n",
        "plt.rcParams[\"axes.labelweight\"] = \"bold\"\n",
        "plt.rcParams[\"axes.titlesize\"] = 25\n",
        "plt.rcParams[\"axes.titleweight\"] = 'bold'\n",
        "plt.rcParams['xtick.labelsize'] = 15\n",
        "plt.rcParams['ytick.labelsize'] = 15\n",
        "plt.rcParams[\"axes.labelsize\"] = 20\n",
        "plt.rcParams[\"legend.fontsize\"] = 15\n",
        "plt.rcParams[\"legend.title_fontsize\"] = 15\n"
      ],
      "metadata": {
        "id": "M8Vqi-pPk-HR"
      },
      "execution_count": null,
      "outputs": []
    },
    {
      "cell_type": "markdown",
      "source": [
        "### Dataset Loading"
      ],
      "metadata": {
        "id": "3RnN4peoiCZX"
      }
    },
    {
      "cell_type": "code",
      "source": [
        "# Load Dataset\n",
        "\n",
        "from google.colab import drive\n",
        "drive.mount('/content/drive')"
      ],
      "metadata": {
        "id": "4CkvbW_SlZ_R"
      },
      "execution_count": null,
      "outputs": []
    },
    {
      "cell_type": "code",
      "source": [
        "# csv file location\n",
        "path = \"/content/drive/MyDrive/EDA Capstone Project/Hotel Bookings.csv\""
      ],
      "metadata": {
        "id": "TDlY1xKm1uUX"
      },
      "execution_count": null,
      "outputs": []
    },
    {
      "cell_type": "code",
      "source": [
        "# reading csv file\n",
        "hotel_booking_df = pd.read_csv(path)"
      ],
      "metadata": {
        "id": "EUNf-x0E3W1n"
      },
      "execution_count": null,
      "outputs": []
    },
    {
      "cell_type": "code",
      "source": [
        "df = pd.read_csv(path)"
      ],
      "metadata": {
        "id": "hhZrkr-SLeSE"
      },
      "execution_count": null,
      "outputs": []
    },
    {
      "cell_type": "code",
      "source": [
        "# check for first five row & columns\n",
        "\n",
        "hotel_booking_df.head()"
      ],
      "metadata": {
        "id": "FmgY6_nLGSUT"
      },
      "execution_count": null,
      "outputs": []
    },
    {
      "cell_type": "code",
      "source": [
        "hotel_booking_df.tail()"
      ],
      "metadata": {
        "id": "OyH5EvNkFLLd"
      },
      "execution_count": null,
      "outputs": []
    },
    {
      "cell_type": "markdown",
      "source": [
        "### Dataset First View"
      ],
      "metadata": {
        "id": "x71ZqKXriCWQ"
      }
    },
    {
      "cell_type": "code",
      "source": [
        "# Dataset First Look\n",
        "pd.read_csv(path)\n",
        "\n"
      ],
      "metadata": {
        "id": "LWNFOSvLl09H"
      },
      "execution_count": null,
      "outputs": []
    },
    {
      "cell_type": "markdown",
      "source": [
        "### Dataset Rows & Columns count"
      ],
      "metadata": {
        "id": "7hBIi_osiCS2"
      }
    },
    {
      "cell_type": "code",
      "source": [
        "# Dataset Rows & Columns count\n",
        "\n",
        "print(f'we have total {df.shape[0]} rows and {df.shape[1]} columns.')"
      ],
      "metadata": {
        "id": "Kllu7SJgmLij"
      },
      "execution_count": null,
      "outputs": []
    },
    {
      "cell_type": "markdown",
      "source": [
        "### Dataset Information"
      ],
      "metadata": {
        "id": "JlHwYmJAmNHm"
      }
    },
    {
      "cell_type": "code",
      "source": [
        "# Dataset Info\n",
        "hotel_booking_df.info()"
      ],
      "metadata": {
        "id": "e9hRXRi6meOf"
      },
      "execution_count": null,
      "outputs": []
    },
    {
      "cell_type": "markdown",
      "source": [
        "#### Duplicate Values"
      ],
      "metadata": {
        "id": "35m5QtbWiB9F"
      }
    },
    {
      "cell_type": "code",
      "source": [
        "# Dataset Duplicate Value Count\n",
        "hotel_booking_df.drop_duplicates(inplace=True)\n",
        "uni_num_of_rows = hotel_booking_df.shape[0]\n",
        "# Lets check unique rows\n",
        "uni_num_of_rows"
      ],
      "metadata": {
        "id": "1sLdpKYkmox0"
      },
      "execution_count": null,
      "outputs": []
    },
    {
      "cell_type": "code",
      "source": [
        "# now view new dataset\n",
        "hotel_booking_df.reset_index()"
      ],
      "metadata": {
        "id": "gHM0gS6O3Uee"
      },
      "execution_count": null,
      "outputs": []
    },
    {
      "cell_type": "markdown",
      "source": [
        "#### Missing Values/Null Values"
      ],
      "metadata": {
        "id": "PoPl-ycgm1ru"
      }
    },
    {
      "cell_type": "code",
      "source": [
        "# Missing Values/Null Values Count\n",
        "null_value = df.isnull()== True\n",
        "df.fillna(np.nan,inplace = True)\n",
        "hotel_booking_df\n",
        "\n"
      ],
      "metadata": {
        "id": "GgHWkxvamxVg"
      },
      "execution_count": null,
      "outputs": []
    },
    {
      "cell_type": "code",
      "source": [
        "# Visualizing the missing values\n",
        "miss_value = hotel_booking_df.isnull().sum ().sort_values(ascending=False)\n",
        "miss_value"
      ],
      "metadata": {
        "id": "3q5wnI3om9sJ"
      },
      "execution_count": null,
      "outputs": []
    },
    {
      "cell_type": "markdown",
      "source": [
        "### What did you know about your dataset?"
      ],
      "metadata": {
        "id": "H0kj-8xxnORC"
      }
    },
    {
      "cell_type": "markdown",
      "source": [
        "This whole data set contains a single file which have all the information of the both hotels (City hotel & Resort hotel). With the help of this data set you can eaisly filter that how many guest are there in a hotel,number of adults in the those vrious guest, number children you can find from this,how many stays of the guest in the hotel.......etc.\n",
        "\n",
        "This data set contains total no. of rows are 119390 and the no. columns are 32. This also contain the duplicates item almost 31994 which is is removed by the programmer. We find the unique value of every column it means what is the actual value in the every column."
      ],
      "metadata": {
        "id": "gfoNAAC-nUe_"
      }
    },
    {
      "cell_type": "markdown",
      "source": [
        "## ***2. Understanding Your Variables***"
      ],
      "metadata": {
        "id": "nA9Y7ga8ng1Z"
      }
    },
    {
      "cell_type": "code",
      "source": [
        "# Dataset Columns\n",
        "df_columns = hotel_booking_df.columns\n",
        "df_columns"
      ],
      "metadata": {
        "id": "j7xfkqrt5Ag5"
      },
      "execution_count": null,
      "outputs": []
    },
    {
      "cell_type": "code",
      "source": [
        "# Dataset Describe\n",
        "hotel_booking_df.describe()"
      ],
      "metadata": {
        "id": "DnOaZdaE5Q5t"
      },
      "execution_count": null,
      "outputs": []
    },
    {
      "cell_type": "markdown",
      "source": [
        "### Variables Description"
      ],
      "metadata": {
        "id": "PBTbrJXOngz2"
      }
    },
    {
      "cell_type": "markdown",
      "source": [
        "**Description :** Individual variable of Data.\n",
        "\n",
        "**Hotel :** Name of hotel (Resort Hotel & City Hotel)\n",
        "\n",
        "**is_canceled :** If the booking was canceled(1) or (0)\n",
        "\n",
        "**lead_time:** No. of days before actual arrival of the guests.\n",
        "\n",
        "**arrival_date_year :** Year of arrival\n",
        "\n",
        "**arrival_date_month :** Month of arrrival year.\n",
        "\n",
        "**arrival_date_week_number :** Week of the arrival.\n",
        "\n",
        "**arrival_date_day of_month :** Day of arrival.\n",
        "\n",
        "**Stay_in_weekend_nights :** No. of weekend spent by the guest at hotel.\n",
        "\n",
        "**Stay_in_week_nights :** Number week night stay at the hotel.\n",
        "\n",
        "**Adults :** Number of adults among the guest.\n",
        "\n",
        "**Children :** Number of children with the guest.\n",
        "\n",
        "**Meal :** Type of meals booked.\n",
        "\n",
        "**Country :** Guest from the country.\n",
        "\n",
        "**Market_segment :** Designation of market ssegment.\n",
        "\n",
        "**Distribution_channel :** Nmae of distribution channel.\n",
        "\n",
        "**is_repeated_guest :** I the repeated guest come for booking (1) or (0).\n",
        "\n",
        "**Previous_cancelation :** Number of privious canceled booking by guest prior to the current booking.\n",
        "\n",
        "**Reserved_room_type :** Codde of reserved room type.\n",
        "\n",
        "**Assigned_room_type :** Code of room type assigned.\n",
        "\n",
        "**Booking_changes :** No. of changes made while booking.\n",
        "\n",
        "**Agent :** Id of travel agent who made the booking.\n",
        "\n",
        "**Company :** Id of the company that made the booking.\n",
        "\n",
        "**Days_in_waiting_list :** No. of days left booking in the waiting list.\n",
        "\n",
        "**Customer_type :** Type of customer assuming one for categories.\n",
        "\n",
        " **adr :** Average daily rate as defined by dividing the sum of all lodging transaction by the total no. of staying nights.\n",
        "\n",
        "**Required_car_parking_space :** no. of car parking spaces required by customer.\n",
        "\n",
        "**Total_of_special_request :** No. of special request made bu the customer.\n",
        "\n",
        "**Resevation_status :** Reservation status (canceled, check_out,check_in, etc..)\n",
        "\n",
        "**Reservation_status_date :** Date where last update of the reservation.\n"
      ],
      "metadata": {
        "id": "aJV4KIxSnxay"
      }
    },
    {
      "cell_type": "markdown",
      "source": [
        "### Check Unique Values for each variable."
      ],
      "metadata": {
        "id": "u3PMJOP6ngxN"
      }
    },
    {
      "cell_type": "code",
      "source": [
        "# Check Unique Values for each variable.\n",
        "for element in hotel_booking_df.columns.tolist():\n",
        "  print(\"No. of unique values in\", element , \"is\" , hotel_booking_df[element].nunique())"
      ],
      "metadata": {
        "id": "zms12Yq5n-jE"
      },
      "execution_count": null,
      "outputs": []
    },
    {
      "cell_type": "code",
      "source": [
        "# lets check unique value of hotel column\n",
        "hotel_booking_df['hotel'].unique()"
      ],
      "metadata": {
        "id": "xEVc95_qENvZ"
      },
      "execution_count": null,
      "outputs": []
    },
    {
      "cell_type": "code",
      "source": [
        "# Arrival date month columns\n",
        "hotel_booking_df['arrival_date_month'].unique()"
      ],
      "metadata": {
        "id": "xDxqsvNpEha1"
      },
      "execution_count": null,
      "outputs": []
    },
    {
      "cell_type": "code",
      "source": [
        "# check unique adults value in columns\n",
        "hotel_booking_df['adults'].unique()"
      ],
      "metadata": {
        "id": "GIBbtd8dE2hi"
      },
      "execution_count": null,
      "outputs": []
    },
    {
      "cell_type": "code",
      "source": [
        "# check unique babies value in columns\n",
        "hotel_booking_df['babies'].unique()"
      ],
      "metadata": {
        "id": "U3Z5vMSvFObk"
      },
      "execution_count": null,
      "outputs": []
    },
    {
      "cell_type": "code",
      "source": [
        "# lets check for the cancel columns\n",
        "hotel_booking_df['is_canceled'].unique()"
      ],
      "metadata": {
        "id": "eSLNpKrrFbg0"
      },
      "execution_count": null,
      "outputs": []
    },
    {
      "cell_type": "code",
      "source": [
        "# check unique value of arrival date years\n",
        "hotel_booking_df['arrival_date_year'].unique()"
      ],
      "metadata": {
        "id": "3IRCzrTHHPxc"
      },
      "execution_count": null,
      "outputs": []
    },
    {
      "cell_type": "code",
      "source": [
        "# lets check no of unique value in agent\n",
        "hotel_booking_df['agent'].unique()"
      ],
      "metadata": {
        "id": "vDXFU5Y1HlMa"
      },
      "execution_count": null,
      "outputs": []
    },
    {
      "cell_type": "code",
      "source": [
        "#check for market segment\n",
        "hotel_booking_df['market_segment'].unique()"
      ],
      "metadata": {
        "id": "RkYBqW4hH2KS"
      },
      "execution_count": null,
      "outputs": []
    },
    {
      "cell_type": "code",
      "source": [
        "# checking unique value in meal\n",
        "hotel_booking_df['meal'].unique()"
      ],
      "metadata": {
        "id": "cma91VkXICMz"
      },
      "execution_count": null,
      "outputs": []
    },
    {
      "cell_type": "code",
      "source": [
        "# check unique value in country\n",
        "hotel_booking_df['country'].unique()"
      ],
      "metadata": {
        "id": "XCtlaL4PIsay"
      },
      "execution_count": null,
      "outputs": []
    },
    {
      "cell_type": "markdown",
      "source": [
        "## 3. ***Data Wrangling***"
      ],
      "metadata": {
        "id": "dauF4eBmngu3"
      }
    },
    {
      "cell_type": "markdown",
      "source": [
        "### Data Wrangling Code"
      ],
      "metadata": {
        "id": "bKJF3rekwFvQ"
      }
    },
    {
      "cell_type": "code",
      "source": [
        "# lets check the missing value columns\n",
        "miss_value[:10]"
      ],
      "metadata": {
        "id": "B38CA6x2PHiO"
      },
      "execution_count": null,
      "outputs": []
    },
    {
      "cell_type": "code",
      "source": [
        "# check % of null value in each column\n",
        "percentage_company_null = miss_value[0] / uni_num_of_rows * 100\n",
        "percentage_company_null"
      ],
      "metadata": {
        "id": "ciW_PH1VPY9o"
      },
      "execution_count": null,
      "outputs": []
    },
    {
      "cell_type": "code",
      "source": [
        "# check for agent %\n",
        "percentage_agent_null = miss_value[1] / uni_num_of_rows * 100\n",
        "percentage_agent_null"
      ],
      "metadata": {
        "id": "rYbqmFcmP6s2"
      },
      "execution_count": null,
      "outputs": []
    },
    {
      "cell_type": "code",
      "source": [
        "# check for country % in column\n",
        "percentage_country_null = miss_value[2] / uni_num_of_rows * 100\n",
        "percentage_country_null"
      ],
      "metadata": {
        "id": "meN268itQb56"
      },
      "execution_count": null,
      "outputs": []
    },
    {
      "cell_type": "code",
      "source": [
        "# we have less null value in country column, so we replace null from 0 as country column\n",
        "hotel_booking_df['children'].fillna(value=0,inplace=True)\n",
        "hotel_booking_df['children'].isnull().sum()"
      ],
      "metadata": {
        "id": "OnoSBYwVQ33k"
      },
      "execution_count": null,
      "outputs": []
    },
    {
      "cell_type": "code",
      "source": [
        "# now lets check the shape\n",
        "hotel_booking_df.shape"
      ],
      "metadata": {
        "id": "kaOHTfy3Rret"
      },
      "execution_count": null,
      "outputs": []
    },
    {
      "cell_type": "code",
      "source": [
        "# lets check ndatabase in anyb other null value\n",
        "hotel_booking_df.isnull().sum()"
      ],
      "metadata": {
        "id": "3tKYSZ6OSAFq"
      },
      "execution_count": null,
      "outputs": []
    },
    {
      "cell_type": "code",
      "source": [
        "# lets check info datatype\n",
        "hotel_booking_df.info()"
      ],
      "metadata": {
        "id": "zTff_EjbO_Nf"
      },
      "execution_count": null,
      "outputs": []
    },
    {
      "cell_type": "code",
      "source": [
        "# total stay in nights\n",
        "hotel_booking_df['total_stay_in_nights'] = hotel_booking_df['stays_in_week_nights'] + hotel_booking_df['stays_in_weekend_nights']\n",
        "hotel_booking_df['total_stay_in_nights']"
      ],
      "metadata": {
        "id": "m_yaCEoQPoJX"
      },
      "execution_count": null,
      "outputs": []
    },
    {
      "cell_type": "code",
      "source": [
        "# created column for revenue  using total_stay * adr\n",
        "hotel_booking_df['revenue'] = hotel_booking_df['total_stay_in_nights'] * hotel_booking_df['adr']\n",
        "hotel_booking_df['revenue']"
      ],
      "metadata": {
        "id": "k-8Y6b5HRI-c"
      },
      "execution_count": null,
      "outputs": []
    },
    {
      "cell_type": "code",
      "source": [
        "# total guest coming for eacg booking\n",
        "hotel_booking_df['total_guest'] = hotel_booking_df['children'] + hotel_booking_df['adults'] + hotel_booking_df['babies']\n",
        "hotel_booking_df['total_guest'].sum()"
      ],
      "metadata": {
        "id": "WB02JAN_R-ZL"
      },
      "execution_count": null,
      "outputs": []
    },
    {
      "cell_type": "code",
      "source": [
        "# from column is_cancelled . we will replace the value from(0,1) to not_cancelled,is cancelled\n",
        "hotel_booking_df['is_canceled'] = hotel_booking_df['is_canceled'].replace([0,1] , ['not_cancelled','is_cancelled'])\n",
        "hotel_booking_df['is_canceled']"
      ],
      "metadata": {
        "id": "ycIRpH4bS-8u"
      },
      "execution_count": null,
      "outputs": []
    },
    {
      "cell_type": "code",
      "source": [
        "# same for the repeated guest column\n",
        "hotel_booking_df['is_repeated_guest'] = hotel_booking_df['is_repeated_guest'].replace([0,1],['not_repeated','repeated'])\n",
        "hotel_booking_df['is_repeated_guest']"
      ],
      "metadata": {
        "id": "bGZzc0ow5ZBM"
      },
      "execution_count": null,
      "outputs": []
    },
    {
      "cell_type": "code",
      "source": [
        "# check revenue hotel wise\n",
        "hotel_wise_total_revenue = hotel_booking_df.groupby('hotel')['revenue'].sum()\n",
        "hotel_wise_total_revenue"
      ],
      "metadata": {
        "id": "dRHILbqoUEFn"
      },
      "execution_count": null,
      "outputs": []
    },
    {
      "cell_type": "markdown",
      "source": [
        "### What all manipulations have you done and insights you found?"
      ],
      "metadata": {
        "id": "MSa1f5Uengrz"
      }
    },
    {
      "cell_type": "markdown",
      "source": [
        "We have seen that there are some columns who required Data to analysis.\n",
        "\n",
        "1) Total guest:- This columns will help us to evaluate the volumes of total guest nand revenue as well. We get this values by adding Adults,Children &Babies.\n",
        "\n",
        "2) Revenue:- We find the revenue by multipling 'total guest' & 'adr'. This column used to analyse the growth of hotels.\n",
        "\n",
        "-------Delete the Columns-------\n",
        "\n",
        "1) Company:- As we can. see that this column has the null Data, so we had deleted this column .\n",
        "\n",
        "-------Replace the values-------\n",
        "\n",
        "1)is_canceled , not_canceled & is_repeated_guest:- We have seen that these column contain only 0,1 values which represent the cancled booking. We replace the value (0,1) fron canceled & not canceled in the same way for column 'is_repeated_guest',we replace 0,1 from repeated & not repeated. Now this values will help to make betterbunderstanding while visualization.\n",
        "\n",
        "-----Changes in data type value in column-----\n",
        "\n",
        "1)- Agents & Children:- We can see that there is a float value in this columns which not making any sense in data , this value represent count value of guest & Id of agent. Due to this we changed the float value to integer.\n",
        "\n",
        "\n",
        "------Remove null value & duplicates entries-------\n",
        "\n",
        "1)- Before visualizee data from data set we have to do Data Wrangling. Now we checked the null value in columns we have to drop this column using drop method. same doing for the column company. If we found minimum number of null value then filling those value with necessary value as per requirement.\n",
        "\n",
        "2)- Same for the data who has duplicate value in data , we have to. drop this also by using drop_duplicate.\n",
        "\n"
      ],
      "metadata": {
        "id": "LbyXE7I1olp8"
      }
    },
    {
      "cell_type": "markdown",
      "source": [
        "## ***4. Data Vizualization, Storytelling & Experimenting with charts : Understand the relationships between variables***"
      ],
      "metadata": {
        "id": "GF8Ens_Soomf"
      }
    },
    {
      "cell_type": "markdown",
      "source": [
        "#### Chart - 1"
      ],
      "metadata": {
        "id": "0wOQAZs5pc--"
      }
    },
    {
      "cell_type": "code",
      "source": [
        "# Chart - 1 visualization code\n",
        "# plotting histogram\n",
        "hotel_booking_df.hist(figsize=(25,18))\n",
        "plt.show()"
      ],
      "metadata": {
        "id": "7v_ESjsspbW7"
      },
      "execution_count": null,
      "outputs": []
    },
    {
      "cell_type": "markdown",
      "source": [
        "##### 1. Why did you pick the specific chart?"
      ],
      "metadata": {
        "id": "K5QZ13OEpz2H"
      }
    },
    {
      "cell_type": "markdown",
      "source": [
        "Here i used Histogram. The histogram is a popular  ttol, It ussed to summarise the data."
      ],
      "metadata": {
        "id": "XESiWehPqBRc"
      }
    },
    {
      "cell_type": "markdown",
      "source": [
        "##### 2. What is/are the insight(s) found from the chart?"
      ],
      "metadata": {
        "id": "lQ7QKXXCp7Bj"
      }
    },
    {
      "cell_type": "markdown",
      "source": [
        "Answer Here"
      ],
      "metadata": {
        "id": "C_j1G7yiqdRP"
      }
    },
    {
      "cell_type": "markdown",
      "source": [
        "##### 3. Will the gained insights help creating a positive business impact?\n",
        "Are there any insights that lead to negative growth? Justify with specific reason."
      ],
      "metadata": {
        "id": "448CDAPjqfQr"
      }
    },
    {
      "cell_type": "markdown",
      "source": [
        "Answer Here"
      ],
      "metadata": {
        "id": "3cspy4FjqxJW"
      }
    },
    {
      "cell_type": "markdown",
      "source": [
        "#### Chart - 2"
      ],
      "metadata": {
        "id": "KSlN3yHqYklG"
      }
    },
    {
      "cell_type": "code",
      "source": [
        "from matplotlib.image import Bbox\n",
        "# Chart - 2 visualization code\n",
        "def get_count_from_column_bar(df,column_label):\n",
        "  df_grpd = df[column_label].value_counts()\n",
        "  df_grpd = pd.DataFrame({'index':df_grpd.index,'count':df_grpd.values})\n",
        "  return df_grpd\n",
        "\n",
        "  # formmat the label of x-axis\n",
        "\n",
        "  def plot_bar_chart_from_column(df,column_label,t1):\n",
        "    df_grpd = get_count_from_column(df,column_label)\n",
        "    fig, ax = ply.subplots(figsize=(25,8))\n",
        "    c = ['g','r','b','c','y']\n",
        "    ax.bar(df_grpd['index'],df_grpd['count'],width = 0.6,align = 'edge', edgecolor = 'red', linewidth = 6, color=c , linestyle = ':', alpha = 0.6)\n",
        "    plt.title(t1, bbox={'facecolor':'0.20','pad':6})\n",
        "    plt.legend()\n",
        "    plt.ylabel('count')\n",
        "    plt.xticks(rotation=20)\n",
        "    plt.xlabel(column_label)\n",
        "    plt.show()\n"
      ],
      "metadata": {
        "id": "R4YgtaqtYklH"
      },
      "execution_count": null,
      "outputs": []
    },
    {
      "cell_type": "code",
      "source": [
        "# Chart - 2 visualization code\n",
        "def get_count_from_column(df,column_label):\n",
        "  df_grpd = df[column_label].value_counts()\n",
        "  df_grpd = pd.DataFrame({'index':df_grpd.index,'count':df_grpd.values})\n",
        "  return df_grpd\n",
        "\n",
        "# plot a piechart from a group data\n",
        "\n",
        "\n",
        "def plot_pie_chart_from_column(df,column_label,t1,exp):\n",
        "  df_grpd = get_count_from_column(df,column_label)\n",
        "  fig, ax = plt.subplots(figsize=(25,8))\n",
        "  ax.pie(df_grpd.loc[:,'count'],labels = df_grpd.loc[:,'index'],autopct = '%1.2f%%', startangle=90,shadow = True,labeldistance = 1, explode =exp)\n",
        "  plt.title(t1, bbox={'facecolor':'0.20','pad':6})\n",
        "  ax.axis('equal')\n",
        "  plt.legend()\n",
        "  plt.show()\n",
        "\n",
        "\n"
      ],
      "metadata": {
        "id": "YugHHoNGcx_O"
      },
      "execution_count": null,
      "outputs": []
    },
    {
      "cell_type": "code",
      "source": [
        "exp1 = [0.08,0.08]\n",
        "plot_pie_chart_from_column(hotel_booking_df,'hotel','Booking percentage of Hotel by name',exp1)"
      ],
      "metadata": {
        "id": "n7JRSZQFewn4"
      },
      "execution_count": null,
      "outputs": []
    },
    {
      "cell_type": "markdown",
      "source": [
        "##### 1. Why did you pick the specific chart?"
      ],
      "metadata": {
        "id": "t6dVpIINYklI"
      }
    },
    {
      "cell_type": "markdown",
      "source": [
        "In this data we can can clearly see the maximum bookings of which hotel is more."
      ],
      "metadata": {
        "id": "5aaW0BYyYklI"
      }
    },
    {
      "cell_type": "markdown",
      "source": [
        "##### 2. What is/are the insight(s) found from the chart?"
      ],
      "metadata": {
        "id": "ijmpgYnKYklI"
      }
    },
    {
      "cell_type": "markdown",
      "source": [
        "According to data City hotel has the maximum bookings which is near about 61% on the other hand Resort hotel has only 38% (approx) bookings.Here we can say that the consuption of the City hotel is more according to Resort hotel."
      ],
      "metadata": {
        "id": "PSx9atu2YklI"
      }
    },
    {
      "cell_type": "markdown",
      "source": [
        "##### 3. Will the gained insights help creating a positive business impact?\n",
        "Are there any insights that lead to negative growth? Justify with specific reason."
      ],
      "metadata": {
        "id": "-JiQyfWJYklI"
      }
    },
    {
      "cell_type": "markdown",
      "source": [
        "Yes, we can say that with the help of chart they can focus on their bussiness and make positive impact on their hotel.\n",
        "\n",
        "City Hotel:- Provide more services to attract more guest to increse their revenue.\n",
        "\n",
        "Resort Hoteel:- Find the solution to attract guests and find the problems what customers faces at their Hotel."
      ],
      "metadata": {
        "id": "BcBbebzrYklV"
      }
    },
    {
      "cell_type": "markdown",
      "source": [
        "#### Chart - 3"
      ],
      "metadata": {
        "id": "EM7whBJCYoAo"
      }
    },
    {
      "cell_type": "code",
      "source": [
        "# Chart - 3 visualization code\n",
        "# chart for cancelled or not cancelled hotel\n",
        "exp4 = [0,0.4]\n",
        "plot_pie_chart_from_column(hotel_booking_df,'is_canceled','cancellation_volume_of_hotel',exp4)"
      ],
      "metadata": {
        "id": "t6GMdE67YoAp"
      },
      "execution_count": null,
      "outputs": []
    },
    {
      "cell_type": "markdown",
      "source": [
        "##### 1. Why did you pick the specific chart?"
      ],
      "metadata": {
        "id": "fge-S5ZAYoAp"
      }
    },
    {
      "cell_type": "markdown",
      "source": [
        "It clearly shows the percentage of the cancelled & not cnacelled hotel."
      ],
      "metadata": {
        "id": "5dBItgRVYoAp"
      }
    },
    {
      "cell_type": "markdown",
      "source": [
        "##### 2. What is/are the insight(s) found from the chart?"
      ],
      "metadata": {
        "id": "85gYPyotYoAp"
      }
    },
    {
      "cell_type": "markdown",
      "source": [
        "We can see that the ratio of not cancelled hotel is more than the cancelled hotel."
      ],
      "metadata": {
        "id": "4jstXR6OYoAp"
      }
    },
    {
      "cell_type": "markdown",
      "source": [
        "##### 3. Will the gained insights help creating a positive business impact?\n",
        "Are there any insights that lead to negative growth? Justify with specific reason."
      ],
      "metadata": {
        "id": "RoGjAbkUYoAp"
      }
    },
    {
      "cell_type": "markdown",
      "source": [
        "Alsmost 27% customers cancelled their booking.\n",
        "\n",
        "we have to check the reson behind the cancellation and need to sort this nproblems."
      ],
      "metadata": {
        "id": "zfJ8IqMcYoAp"
      }
    },
    {
      "cell_type": "markdown",
      "source": [
        "#### Chart - 4"
      ],
      "metadata": {
        "id": "4Of9eVA-YrdM"
      }
    },
    {
      "cell_type": "code",
      "source": [
        "# Chart - 4 visualization code\n",
        "# chart of total stay\n",
        "hotel_booking_df['total_stay_in_nights'] = hotel_booking_df['stays_in_week_nights'] + hotel_booking_df['stays_in_weekend_nights']\n",
        "plt.figure(figsize=(18,8))\n",
        "sns.violinplot(x=\"arrival_date_week_number\",y=\"total_stay_in_nights\",data= hotel_booking_df)\n",
        "plt.title(\"week wise  no. of satys\", fontsize = 25)\n",
        "plt.ylabel(\"number of stays\",fontsize=20)\n",
        "plt.xlabel(\"week numbers\",fontsize=18)\n",
        "hotel_booking_df['total_stay_in_nights'] = hotel_booking_df['stays_in_week_nights'] + hotel_booking_df['stays_in_weekend_nights']\n"
      ],
      "metadata": {
        "id": "irlUoxc8YrdO"
      },
      "execution_count": null,
      "outputs": []
    },
    {
      "cell_type": "markdown",
      "source": [
        "##### 1. Why did you pick the specific chart?"
      ],
      "metadata": {
        "id": "iky9q4vBYrdO"
      }
    },
    {
      "cell_type": "markdown",
      "source": [
        "According to this chart we clearly see that the individual week stays in the hotel."
      ],
      "metadata": {
        "id": "aJRCwT6DYrdO"
      }
    },
    {
      "cell_type": "markdown",
      "source": [
        "##### 2. What is/are the insight(s) found from the chart?"
      ],
      "metadata": {
        "id": "F6T5p64dYrdO"
      }
    },
    {
      "cell_type": "markdown",
      "source": [
        "This chart shows that the maximum number of guests come in the week 28."
      ],
      "metadata": {
        "id": "Xx8WAJvtYrdO"
      }
    },
    {
      "cell_type": "markdown",
      "source": [
        "##### 3. Will the gained insights help creating a positive business impact?\n",
        "Are there any insights that lead to negative growth? Justify with specific reason."
      ],
      "metadata": {
        "id": "y-Ehk30pYrdP"
      }
    },
    {
      "cell_type": "markdown",
      "source": [
        "According to chart we can see that some weeks are very low customers rate, For this we can more adervertise and give discounts to attarct the customers."
      ],
      "metadata": {
        "id": "jLNxxz7MYrdP"
      }
    },
    {
      "cell_type": "markdown",
      "source": [
        "#### Chart - 5"
      ],
      "metadata": {
        "id": "bamQiAODYuh1"
      }
    },
    {
      "cell_type": "code",
      "source": [
        "# Chart - 5 visualization code\n",
        "plt.figure(figsize=(18,10))\n",
        "\n",
        "sns.countplot(x = hotel_booking_df['agent'])\n",
        "plt.show()"
      ],
      "metadata": {
        "id": "TIJwrbroYuh3"
      },
      "execution_count": null,
      "outputs": []
    },
    {
      "cell_type": "markdown",
      "source": [
        "##### 1. Why did you pick the specific chart?"
      ],
      "metadata": {
        "id": "QHF8YVU7Yuh3"
      }
    },
    {
      "cell_type": "markdown",
      "source": [
        "It shows counts observation in each categorical bars a count plot can be thought of as histogram across a categorical,instead of qualitative.\n"
      ],
      "metadata": {
        "id": "dcxuIMRPYuh3"
      }
    },
    {
      "cell_type": "markdown",
      "source": [
        "##### 2. What is/are the insight(s) found from the chart?"
      ],
      "metadata": {
        "id": "GwzvFGzlYuh3"
      }
    },
    {
      "cell_type": "markdown",
      "source": [
        "Answer Here"
      ],
      "metadata": {
        "id": "uyqkiB8YYuh3"
      }
    },
    {
      "cell_type": "markdown",
      "source": [
        "##### 3. Will the gained insights help creating a positive business impact?\n",
        "Are there any insights that lead to negative growth? Justify with specific reason."
      ],
      "metadata": {
        "id": "qYpmQ266Yuh3"
      }
    },
    {
      "cell_type": "markdown",
      "source": [
        "Answer Here"
      ],
      "metadata": {
        "id": "_WtzZ_hCYuh4"
      }
    },
    {
      "cell_type": "markdown",
      "source": [
        "#### Chart - 6"
      ],
      "metadata": {
        "id": "OH-pJp9IphqM"
      }
    },
    {
      "cell_type": "code",
      "source": [
        "# Chart - 6 visualization code\n",
        "# lets plot achart according to month\n",
        "exp2 = [0.8,0,0,0,0,0,0,0,0,0,0,0.10]\n",
        "plot_pie_chart_from_column(hotel_booking_df,'arrival_date_month','month_wise_booking',exp2)\n",
        "plt.show()"
      ],
      "metadata": {
        "id": "kuRf4wtuphqN"
      },
      "execution_count": null,
      "outputs": []
    },
    {
      "cell_type": "markdown",
      "source": [
        "##### 1. Why did you pick the specific chart?"
      ],
      "metadata": {
        "id": "bbFf2-_FphqN"
      }
    },
    {
      "cell_type": "markdown",
      "source": [
        "To show the percentage share of booking in each and every month individually on overall basis."
      ],
      "metadata": {
        "id": "loh7H2nzphqN"
      }
    },
    {
      "cell_type": "markdown",
      "source": [
        "##### 2. What is/are the insight(s) found from the chart?"
      ],
      "metadata": {
        "id": "_ouA3fa0phqN"
      }
    },
    {
      "cell_type": "markdown",
      "source": [
        "The above percentage pie chart shows that hotel gets the maximum booking of hotels in the month of August followed by july and may due to holiday seasons."
      ],
      "metadata": {
        "id": "VECbqPI7phqN"
      }
    },
    {
      "cell_type": "markdown",
      "source": [
        "##### 3. Will the gained insights help creating a positive business impact?\n",
        "Are there any insights that lead to negative growth? Justify with specific reason."
      ],
      "metadata": {
        "id": "Seke61FWphqN"
      }
    },
    {
      "cell_type": "markdown",
      "source": [
        "Yes , with increase in volume of visitors will help to manage the revenue in the down time of the booking and also help in employes satisfaction or rentation."
      ],
      "metadata": {
        "id": "DW4_bGpfphqN"
      }
    },
    {
      "cell_type": "markdown",
      "source": [
        "#### Chart - 7"
      ],
      "metadata": {
        "id": "PIIx-8_IphqN"
      }
    },
    {
      "cell_type": "code",
      "source": [
        "# Chart - 7 visualization code\n",
        "# repetead guest in the hotel\n",
        "exp3 = [0,0.4]\n",
        "plot_pie_chart_from_column(hotel_booking_df,'is_repeated_guest', 'guest repeating status',exp3)"
      ],
      "metadata": {
        "id": "lqAIGUfyphqO"
      },
      "execution_count": null,
      "outputs": []
    },
    {
      "cell_type": "markdown",
      "source": [
        "##### 1. Why did you pick the specific chart?"
      ],
      "metadata": {
        "id": "t27r6nlMphqO"
      }
    },
    {
      "cell_type": "markdown",
      "source": [
        "To show the percentage share of repeated and non-repeated guests.  "
      ],
      "metadata": {
        "id": "iv6ro40sphqO"
      }
    },
    {
      "cell_type": "markdown",
      "source": [
        "##### 2. What is/are the insight(s) found from the chart?"
      ],
      "metadata": {
        "id": "r2jJGEOYphqO"
      }
    },
    {
      "cell_type": "markdown",
      "source": [
        "Here,We can see that the number of repeated guests is very less as compared to overall guests."
      ],
      "metadata": {
        "id": "Po6ZPi4hphqO"
      }
    },
    {
      "cell_type": "markdown",
      "source": [
        "##### 3. Will the gained insights help creating a positive business impact?\n",
        "Are there any insights that lead to negative growth? Justify with specific reason."
      ],
      "metadata": {
        "id": "b0JNsNcRphqO"
      }
    },
    {
      "cell_type": "markdown",
      "source": [
        "yes, We can give exclusive discounts,offers and coupons to our customers during off seasons to enhance the revenue of our hotel."
      ],
      "metadata": {
        "id": "xvSq8iUTphqO"
      }
    },
    {
      "cell_type": "markdown",
      "source": [
        "#### Chart - 8"
      ],
      "metadata": {
        "id": "BZR9WyysphqO"
      }
    },
    {
      "cell_type": "code",
      "source": [
        "# Chart - 8 visualization code\n",
        "\n",
        "guest_month_wise = pd.DataFrame(hotel_booking_df[['arrival_date_month','total_guest']])\n",
        "guest_month_wise_df = guest_month_wise.groupby(['arrival_date_month'])['total_guest'].sum()\n",
        "guest_month_wise_df.sort_values(ascending = False, inplace = True)\n",
        "hotel_booking_df['total_guest']"
      ],
      "metadata": {
        "id": "TdPTWpAVphqO"
      },
      "execution_count": null,
      "outputs": []
    },
    {
      "cell_type": "code",
      "source": [
        "market_segment_df = pd.DataFrame(hotel_booking_df['market_segment'])\n",
        "market_segment_df_data= market_segment_df.groupby('market_segment')['market_segment'].count()\n",
        "market_segment_df_data.sort_values(ascending = False, inplace= True)\n",
        "plt.figure(figsize=(15,6))\n",
        "y= np.array([4,5,6])\n",
        "market_segment_df_data.plot(kind='bar',color = ['g','r','c','b','y','black','brown'], fontsize = 20, legend = 'True')"
      ],
      "metadata": {
        "id": "Fcnq78jEAker"
      },
      "execution_count": null,
      "outputs": []
    },
    {
      "cell_type": "markdown",
      "source": [
        "##### 1. Why did you pick the specific chart?"
      ],
      "metadata": {
        "id": "jj7wYXLtphqO"
      }
    },
    {
      "cell_type": "markdown",
      "source": [
        "In this chart , we have seen market segment by which hotel has booked."
      ],
      "metadata": {
        "id": "Ob8u6rCTphqO"
      }
    },
    {
      "cell_type": "markdown",
      "source": [
        "##### 2. What is/are the insight(s) found from the chart?"
      ],
      "metadata": {
        "id": "eZrbJ2SmphqO"
      }
    },
    {
      "cell_type": "markdown",
      "source": [
        "Online TA has been used most frequently to book hotel by the guest."
      ],
      "metadata": {
        "id": "mZtgC_hjphqO"
      }
    },
    {
      "cell_type": "markdown",
      "source": [
        "##### 3. Will the gained insights help creating a positive business impact?\n",
        "Are there any insights that lead to negative growth? Justify with specific reason."
      ],
      "metadata": {
        "id": "rFu4xreNphqO"
      }
    },
    {
      "cell_type": "markdown",
      "source": [
        "Yes, it is creating positive business impact that guests are using online TA market segment as most preferd to book hotels."
      ],
      "metadata": {
        "id": "ey_0qi68phqO"
      }
    },
    {
      "cell_type": "markdown",
      "source": [
        "#### Chart - 9"
      ],
      "metadata": {
        "id": "YJ55k-q6phqO"
      }
    },
    {
      "cell_type": "code",
      "source": [
        "# Chart - 9 visualization code\n",
        "guest_country_wise = pd.DataFrame(hotel_booking_df[['country','total_guest']])\n",
        "guest_country_wise_df = guest_country_wise.groupby(['country'])['total_guest'].sum()\n",
        "guest_country_wise_df.sort_values(ascending = False , inplace = True)\n",
        "top_10_country_by_guest = guest_country_wise_df.head(10)"
      ],
      "metadata": {
        "id": "B2aS4O1ophqO"
      },
      "execution_count": null,
      "outputs": []
    },
    {
      "cell_type": "code",
      "source": [
        "plt.figure(figsize=(12,6))\n",
        "sns.barplot(x=top_10_country_by_guest.index,y=top_10_country_by_guest).set(title='top 10 country by guest')\n",
        "print(\"/n/nPRT = Portugal/nGBR = Great Britain & Northern Ireland/nFRA= France/nESP = Spain/nDEU = Germany/nITA = Italy/nIRL = Ireland/nBRA = Brazil/nBEL = Belgium/nNLD = Neitherland\")"
      ],
      "metadata": {
        "id": "SY1whIG_QC6p"
      },
      "execution_count": null,
      "outputs": []
    },
    {
      "cell_type": "markdown",
      "source": [
        "##### 1. Why did you pick the specific chart?"
      ],
      "metadata": {
        "id": "gCFgpxoyphqP"
      }
    },
    {
      "cell_type": "markdown",
      "source": [
        "With the help of barplot we can easily find out the most guest comes from individual country."
      ],
      "metadata": {
        "id": "TVxDimi2phqP"
      }
    },
    {
      "cell_type": "markdown",
      "source": [
        "##### 2. What is/are the insight(s) found from the chart?"
      ],
      "metadata": {
        "id": "OVtJsKN_phqQ"
      }
    },
    {
      "cell_type": "markdown",
      "source": [
        "According to the grap we can clearly see that maximum guests come from Portugal country."
      ],
      "metadata": {
        "id": "ngGi97qjphqQ"
      }
    },
    {
      "cell_type": "markdown",
      "source": [
        "##### 3. Will the gained insights help creating a positive business impact?\n",
        "Are there any insights that lead to negative growth? Justify with specific reason."
      ],
      "metadata": {
        "id": "lssrdh5qphqQ"
      }
    },
    {
      "cell_type": "markdown",
      "source": [
        "We can do more advertisment & can provide offers to Portugal guests to enhance the more customer volumes."
      ],
      "metadata": {
        "id": "tBpY5ekJphqQ"
      }
    },
    {
      "cell_type": "markdown",
      "source": [
        "#### Chart - 10"
      ],
      "metadata": {
        "id": "U2RJ9gkRphqQ"
      }
    },
    {
      "cell_type": "code",
      "source": [
        "# Chart - 10 visualization code\n",
        "plt.figure(figsize=(10,6))\n",
        "hotel_wise_revenue = hotel_booking_df.groupby('hotel')['revenue'].sum()\n",
        "hotel_wise_revenue\n",
        "ax = hotel_wise_revenue.plot(kind = 'bar',color = ('y','c'))\n",
        "plt.xlabel(\"Hotel\", fontdict ={'fontsize':12,'fontweight':5,'color':'red'})\n",
        "plt.ylabel(\"Total revenue\", fontdict={'fontsize':12,'fontweight':5,'color':'red'})\n",
        "plt.title(\"Total revenue\", fontdict={'fontsize':12,'fontweight':5,'color':'green'})"
      ],
      "metadata": {
        "id": "GM7a4YP4phqQ"
      },
      "execution_count": null,
      "outputs": []
    },
    {
      "cell_type": "markdown",
      "source": [
        "##### 1. Why did you pick the specific chart?"
      ],
      "metadata": {
        "id": "1M8mcRywphqQ"
      }
    },
    {
      "cell_type": "markdown",
      "source": [
        "Bar chart shows as frequency counts of value for the different levels of a categorical or nominal variable.Bar chart shows other statics to show the average adr of each hotel type in clear and fascinable way ,so we have use Bar chart."
      ],
      "metadata": {
        "id": "8agQvks0phqQ"
      }
    },
    {
      "cell_type": "markdown",
      "source": [
        "##### 2. What is/are the insight(s) found from the chart?"
      ],
      "metadata": {
        "id": "tgIPom80phqQ"
      }
    },
    {
      "cell_type": "markdown",
      "source": [
        "The City Hotel has heighest adr. This means City Hotel are generating more revenue than the Resort Hotel."
      ],
      "metadata": {
        "id": "Qp13pnNzphqQ"
      }
    },
    {
      "cell_type": "markdown",
      "source": [
        "##### 3. Will the gained insights help creating a positive business impact?\n",
        "Are there any insights that lead to negative growth? Justify with specific reason."
      ],
      "metadata": {
        "id": "JMzcOPDDphqR"
      }
    },
    {
      "cell_type": "markdown",
      "source": [
        "Yes, more advertisment , more offers creates more revenue to the Hotels."
      ],
      "metadata": {
        "id": "R4Ka1PC2phqR"
      }
    },
    {
      "cell_type": "markdown",
      "source": [
        "#### Chart - 11"
      ],
      "metadata": {
        "id": "x-EpHcCOp1ci"
      }
    },
    {
      "cell_type": "code",
      "source": [
        "# Chart - 11 visualization code\n",
        "# To find Average ADR of the hotels\n",
        "average_adr = hotel_booking_df.groupby('hotel')['adr'].mean()\n",
        "average_adr\n",
        "\n",
        "plt.subplots(figsize=(12,8))\n",
        "average_adr.plot(kind = 'barh',color = ('c','y'))\n",
        "plt.xlabel(\"Average ADR\",fontdict={'fontsize':12,'fontweight':5,'color':'Brown'})\n",
        "plt.ylabel(\"Hotel Name\",fontdict={'fontsize':12,'fontweight':5,'color':'Brown'})\n",
        "plt.title(\"Average ADR of Hotel\",fontdict={'fontsize':12,'fontweight':5,'color':'Green'})"
      ],
      "metadata": {
        "id": "mAQTIvtqp1cj"
      },
      "execution_count": null,
      "outputs": []
    },
    {
      "cell_type": "markdown",
      "source": [
        "##### 1. Why did you pick the specific chart?"
      ],
      "metadata": {
        "id": "X_VqEhTip1ck"
      }
    },
    {
      "cell_type": "markdown",
      "source": [
        "To specify the Average ADR for the both Hotels."
      ],
      "metadata": {
        "id": "-vsMzt_np1ck"
      }
    },
    {
      "cell_type": "markdown",
      "source": [
        "##### 2. What is/are the insight(s) found from the chart?"
      ],
      "metadata": {
        "id": "8zGJKyg5p1ck"
      }
    },
    {
      "cell_type": "markdown",
      "source": [
        "As we can see the Average ADR of City Hotel is more than the Resort Hotel , so the profit and revenue will be higher for the City Hotel as compared to Resort Hotel."
      ],
      "metadata": {
        "id": "ZYdMsrqVp1ck"
      }
    },
    {
      "cell_type": "markdown",
      "source": [
        "##### 3. Will the gained insights help creating a positive business impact?\n",
        "Are there any insights that lead to negative growth? Justify with specific reason."
      ],
      "metadata": {
        "id": "PVzmfK_Ep1ck"
      }
    },
    {
      "cell_type": "markdown",
      "source": [
        "Here we can do more advertisement of the Hotels amnd give offer to the customers to visit their hotel to get higher profit qnd large revenue."
      ],
      "metadata": {
        "id": "druuKYZpp1ck"
      }
    },
    {
      "cell_type": "markdown",
      "source": [
        "#### Chart - 12"
      ],
      "metadata": {
        "id": "n3dbpmDWp1ck"
      }
    },
    {
      "cell_type": "code",
      "source": [
        "# Chart - 12 visualization code\n",
        "plt.figure(figsize=(12,8))\n",
        "sns.scatterplot(y ='adr', x= 'total_stay_in_nights' , data = hotel_booking_df[hotel_booking_df['adr']<100])"
      ],
      "metadata": {
        "id": "bwevp1tKp1ck"
      },
      "execution_count": null,
      "outputs": []
    },
    {
      "cell_type": "markdown",
      "source": [
        "##### 1. Why did you pick the specific chart?"
      ],
      "metadata": {
        "id": "ylSl6qgtp1ck"
      }
    },
    {
      "cell_type": "markdown",
      "source": [
        "Scattter plot's primary uses are to observe and show relationships between two numeric variables."
      ],
      "metadata": {
        "id": "m2xqNkiQp1ck"
      }
    },
    {
      "cell_type": "markdown",
      "source": [
        "##### 2. What is/are the insight(s) found from the chart?"
      ],
      "metadata": {
        "id": "ZWILFDl5p1ck"
      }
    },
    {
      "cell_type": "markdown",
      "source": [
        "The dots in scatter plot not only the report it is the values of individual data points , but also patterns when the data are taken as a whole."
      ],
      "metadata": {
        "id": "x-lUsV2mp1ck"
      }
    },
    {
      "cell_type": "markdown",
      "source": [
        "#### Chart - 13"
      ],
      "metadata": {
        "id": "Ag9LCva-p1cl"
      }
    },
    {
      "cell_type": "code",
      "source": [
        "# Chart - 13 visualization code\n",
        "\n",
        "plt.figure(figsize=(12,10),dpi = 100)\n",
        "hotel_wise_meal = hotel_booking_df.groupby(['hotel','meal'])['meal'].count().unstack()\n",
        "hotel_wise_meal.plot(kind = 'bar',figsize=(20,12))\n",
        "hotel_wise_meal"
      ],
      "metadata": {
        "id": "EUfxeq9-p1cl"
      },
      "execution_count": null,
      "outputs": []
    },
    {
      "cell_type": "markdown",
      "source": [
        "##### 1. Why did you pick the specific chart?"
      ],
      "metadata": {
        "id": "E6MkPsBcp1cl"
      }
    },
    {
      "cell_type": "markdown",
      "source": [
        "To show the meal prefrence of the guest hotel wise."
      ],
      "metadata": {
        "id": "V22bRsFWp1cl"
      }
    },
    {
      "cell_type": "markdown",
      "source": [
        "##### 2. What is/are the insight(s) found from the chart?"
      ],
      "metadata": {
        "id": "2cELzS2fp1cl"
      }
    },
    {
      "cell_type": "markdown",
      "source": [
        "As we can see Bed & Breakfast meal is most preferd by the guests in hotels."
      ],
      "metadata": {
        "id": "ozQPc2_Ip1cl"
      }
    },
    {
      "cell_type": "markdown",
      "source": [
        "##### 3. Will the gained insights help creating a positive business impact?\n",
        "Are there any insights that lead to negative growth? Justify with specific reason."
      ],
      "metadata": {
        "id": "3MPXvC8up1cl"
      }
    },
    {
      "cell_type": "markdown",
      "source": [
        "Hotel can give more delicious dishes in the meal to get customers repeat order & attract to a new customer."
      ],
      "metadata": {
        "id": "GL8l1tdLp1cl"
      }
    },
    {
      "cell_type": "markdown",
      "source": [
        "####  Chart - 14 - Correlation Heatmap"
      ],
      "metadata": {
        "id": "6gLSJNbBiXPH"
      }
    },
    {
      "cell_type": "code",
      "source": [
        "# Correlation Heatmap visualization code\n",
        "plt.figure(figsize=(18,10))\n",
        "sns.heatmap(hotel_booking_df.corr(), annot = True)\n",
        "plt.title('co-relation of the column', fontsize=20)"
      ],
      "metadata": {
        "id": "8RQyzNdnjaNW"
      },
      "execution_count": null,
      "outputs": []
    },
    {
      "cell_type": "markdown",
      "source": [
        "##### 1. Why did you pick the specific chart?"
      ],
      "metadata": {
        "id": "qYanM9p7k1Qv"
      }
    },
    {
      "cell_type": "markdown",
      "source": [
        "A correlation is a table showing correlation coefficient between varible each cell in the table shows the correlation between two variable. A correlation matrix is used to summarise the data"
      ],
      "metadata": {
        "id": "x6pQo5lsmNQj"
      }
    },
    {
      "cell_type": "markdown",
      "source": [
        "##### 1. Why did you pick the specific chart?"
      ],
      "metadata": {
        "id": "b2NkP1TSl0Dw"
      }
    },
    {
      "cell_type": "markdown",
      "source": [
        "Customers can easily cancell their bookings if they don't get the same room as per recieved rooms adults,children,babies correlatte to each other."
      ],
      "metadata": {
        "id": "3W4n3rRQvLH_"
      }
    },
    {
      "cell_type": "markdown",
      "source": [
        "#### Chart - 15 - Pair Plot"
      ],
      "metadata": {
        "id": "NC_X3p0fY2L0"
      }
    },
    {
      "cell_type": "code",
      "source": [
        "# Pair Plot\n",
        "\n",
        "sns.pairplot(data = hotel_booking_df,hue = \"children\")\n",
        "plt.show()"
      ],
      "metadata": {
        "id": "xyC9zolEZNRQ"
      },
      "execution_count": null,
      "outputs": []
    },
    {
      "cell_type": "markdown",
      "source": [
        "##### 1. Why did you pick the specific chart?"
      ],
      "metadata": {
        "id": "UV0SzAkaZNRQ"
      }
    },
    {
      "cell_type": "markdown",
      "source": [
        "Pair plot is used to understand the best set of features to explain between two variables . It is also helps to form some simple classification models by drawing some simple lines."
      ],
      "metadata": {
        "id": "DVPuT8LYZNRQ"
      }
    },
    {
      "cell_type": "markdown",
      "source": [
        "##### 2. What is/are the insight(s) found from the chart?"
      ],
      "metadata": {
        "id": "YPEH6qLeZNRQ"
      }
    },
    {
      "cell_type": "markdown",
      "source": [
        "we have found that how many children are with different types of columns."
      ],
      "metadata": {
        "id": "bfSqtnDqZNRR"
      }
    },
    {
      "cell_type": "markdown",
      "source": [
        "## **5. Solution to Business Objective**"
      ],
      "metadata": {
        "id": "JcMwzZxoAimU"
      }
    },
    {
      "cell_type": "markdown",
      "source": [
        "#### What do you suggest the client to achieve Business Objective ?\n",
        "Explain Briefly."
      ],
      "metadata": {
        "id": "8G2x9gOozGDZ"
      }
    },
    {
      "cell_type": "markdown",
      "source": [
        "  **Following are the points to achieve Bussines Objectives**\n",
        "  \n",
        "  1- For hotel bussiness to florish few things which we need to consider in high revenue generation,customer satisfaction and employes rentation.\n",
        "\n",
        "  2- We are able to achieve the same by showing the months to client which are higher in revenue generation by pie chart distribution.\n",
        "\n",
        "  3- Incrdasing the revenue achieved by bar chart distribution of which type of rooms are most reserved in which months.\n",
        "  \n",
        "  4- So for the clients who are well prepare in advance so that the minimum grievance would be faced by clients in long run and would help in further enhancement of their hospitalities.\n",
        "\n",
        "  5- Outliers like higher the visitor then the adr has reduced drastically was shown in Scatter plot so in off sasons client engagedwith offices for bulk booking this will also help in extra revenue generation.\n",
        "\n",
        "  6- We are able to show the trend of arrivals of visitor at client location through which client engaged visitors well advance for their entertainment and leisure activities.\n",
        "\n",
        "  7- We are able to co relate the values showing the max and min percentage between them so that the percentage lying those numbers can be enhanced by various medium."
      ],
      "metadata": {
        "id": "pASKb0qOza21"
      }
    },
    {
      "cell_type": "markdown",
      "source": [
        "f# **Conclusion**"
      ],
      "metadata": {
        "id": "gCX9965dhzqZ"
      }
    },
    {
      "cell_type": "markdown",
      "source": [
        "##### **Following are the conclusions**\n",
        "\n",
        "1- City hotel seems to be more preferred among travellers and it also\n",
        "   generates more revenue & profit.\n",
        "\n",
        "2- Most numbers of bookings are made in month of july and august as compared to another month.\n",
        "\n",
        "3- Room type A is most preferred room as compare to other rooms.\n",
        "\n",
        "4- Most number of bookings are made fromm Portugal & Great Britain.\n",
        "\n",
        "5- Most of the guests stay 3-4 days in the hotel.\n",
        "\n",
        "6- City hotel guest retains more number of guests.\n",
        "\n",
        "7- Around one-fourth of the total bookings getting cancelled. More cancellation comes from City hotel.\n",
        "\n",
        "8- New guest tends to cancel bookings more than repeated customers.\n",
        "\n",
        "9- Waiting list customers does not affect on their cancel bookings\n",
        "\n",
        "10- Repeated guest maximum comes from corporate sector.\n",
        "\n",
        "11- The length of the stay decreases as ADR increses probably to reduce the cost.\n",
        "\n",
        "\n"
      ],
      "metadata": {
        "id": "Fjb1IsQkh3yE"
      }
    },
    {
      "cell_type": "markdown",
      "source": [
        "### ***Hurrah! You have successfully completed your EDA Capstone Project !!!***"
      ],
      "metadata": {
        "id": "gIfDvo9L0UH2"
      }
    }
  ]
}